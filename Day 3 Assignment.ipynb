{
 "cells": [
  {
   "cell_type": "markdown",
   "metadata": {},
   "source": [
    "# Day 3"
   ]
  },
  {
   "cell_type": "markdown",
   "metadata": {},
   "source": [
    "# Assignement Question 1 (Occurrence of substring)"
   ]
  },
  {
   "cell_type": "code",
   "execution_count": 13,
   "metadata": {},
   "outputs": [
    {
     "name": "stdout",
     "output_type": "stream",
     "text": [
      "Enter th Statement : what we think we become; we are python programmer\n",
      "Enter the substring : we\n",
      "\n",
      "Word  Occ.No.  Index\n",
      "we --> 1     --> 5\n",
      "we --> 2     --> 14\n",
      "we --> 3     --> 25\n"
     ]
    }
   ],
   "source": [
    "str1=input(\"Enter th Statement : \")\n",
    "str1.split()\n",
    "a=input(\"Enter the substring : \")\n",
    "c=0\n",
    "i=0\n",
    "print(\"\\nWord  Occ.No.  Index\")\n",
    "for each in str1.split(): \n",
    "    if each==a:\n",
    "        i +=1\n",
    "        print(each,\"-->\",i,\"    -->\",c)\n",
    "    c = c+len(each)+1"
   ]
  },
  {
   "cell_type": "markdown",
   "metadata": {},
   "source": [
    "# Assignment Question 2 (use of islower() and isupper() )"
   ]
  },
  {
   "cell_type": "markdown",
   "metadata": {},
   "source": [
    "# 1. islower()"
   ]
  },
  {
   "cell_type": "code",
   "execution_count": 14,
   "metadata": {},
   "outputs": [
    {
     "name": "stdout",
     "output_type": "stream",
     "text": [
      "Enter the string :I am a python programmer\n"
     ]
    },
    {
     "data": {
      "text/plain": [
       "False"
      ]
     },
     "execution_count": 14,
     "metadata": {},
     "output_type": "execute_result"
    }
   ],
   "source": [
    "a=input(\"Enter the string :\")\n",
    "a.islower()"
   ]
  },
  {
   "cell_type": "code",
   "execution_count": 15,
   "metadata": {},
   "outputs": [
    {
     "name": "stdout",
     "output_type": "stream",
     "text": [
      "Enter the string :I AM A PYTHON PROGRAMMER\n"
     ]
    },
    {
     "data": {
      "text/plain": [
       "False"
      ]
     },
     "execution_count": 15,
     "metadata": {},
     "output_type": "execute_result"
    }
   ],
   "source": [
    "a=input(\"Enter the string :\")\n",
    "a.islower()"
   ]
  },
  {
   "cell_type": "code",
   "execution_count": 16,
   "metadata": {},
   "outputs": [
    {
     "name": "stdout",
     "output_type": "stream",
     "text": [
      "Enter the string :i am a python programmer\n"
     ]
    },
    {
     "data": {
      "text/plain": [
       "True"
      ]
     },
     "execution_count": 16,
     "metadata": {},
     "output_type": "execute_result"
    }
   ],
   "source": [
    "a=input(\"Enter the string :\")\n",
    "a.islower()"
   ]
  },
  {
   "cell_type": "markdown",
   "metadata": {},
   "source": [
    "# 2. isupper()"
   ]
  },
  {
   "cell_type": "code",
   "execution_count": 1,
   "metadata": {},
   "outputs": [
    {
     "name": "stdout",
     "output_type": "stream",
     "text": [
      "Enter the string :Welcome To LetsUpgrade\n",
      "False\n",
      "Enter the string :welcome to letsupgrade\n",
      "False\n",
      "Enter the string :Welcome to LetsUPGRADE\n",
      "False\n",
      "Enter the string :WELCOME TO LETSUPGRADE\n",
      "True\n"
     ]
    }
   ],
   "source": [
    "while True :\n",
    "    a=input(\"Enter the string :\")\n",
    "    print(a.isupper())\n",
    "    if a.isupper()==True:\n",
    "        break"
   ]
  },
  {
   "cell_type": "code",
   "execution_count": null,
   "metadata": {},
   "outputs": [],
   "source": []
  }
 ],
 "metadata": {
  "kernelspec": {
   "display_name": "Python 3",
   "language": "python",
   "name": "python3"
  },
  "language_info": {
   "codemirror_mode": {
    "name": "ipython",
    "version": 3
   },
   "file_extension": ".py",
   "mimetype": "text/x-python",
   "name": "python",
   "nbconvert_exporter": "python",
   "pygments_lexer": "ipython3",
   "version": "3.7.6"
  }
 },
 "nbformat": 4,
 "nbformat_minor": 4
}
