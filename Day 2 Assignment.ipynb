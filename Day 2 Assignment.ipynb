{
 "cells": [
  {
   "cell_type": "markdown",
   "metadata": {},
   "source": [
    "# Assignment Question 1 (Sum of n No.)"
   ]
  },
  {
   "cell_type": "code",
   "execution_count": 13,
   "metadata": {},
   "outputs": [
    {
     "name": "stdout",
     "output_type": "stream",
     "text": [
      " Enter the value of n 20\n",
      "Initial Value =  0\n",
      "Adding 1 to previous value ---> 1\n",
      "Adding 2 to previous value ---> 3\n",
      "Adding 3 to previous value ---> 6\n",
      "Adding 4 to previous value ---> 10\n",
      "Adding 5 to previous value ---> 15\n",
      "Adding 6 to previous value ---> 21\n",
      "Adding 7 to previous value ---> 28\n",
      "Adding 8 to previous value ---> 36\n",
      "Adding 9 to previous value ---> 45\n",
      "Adding 10 to previous value ---> 55\n",
      "Adding 11 to previous value ---> 66\n",
      "Adding 12 to previous value ---> 78\n",
      "Adding 13 to previous value ---> 91\n",
      "Adding 14 to previous value ---> 105\n",
      "Adding 15 to previous value ---> 120\n",
      "Adding 16 to previous value ---> 136\n",
      "Adding 17 to previous value ---> 153\n",
      "Adding 18 to previous value ---> 171\n",
      "Adding 19 to previous value ---> 190\n",
      "Final sum of 20 numbers =  190\n"
     ]
    }
   ],
   "source": [
    "sum1=0\n",
    "i=1\n",
    "n=int(input(\" Enter the value of n \"))\n",
    "print(\"Initial Value = \",sum1)\n",
    "while i<n:\n",
    "    sum1=sum1+i\n",
    "    print(\"Adding %d to previous value ---> %d\"%(i,sum1))\n",
    "    i=i+1\n",
    "print(\"Final sum of %d numbers = \"%(n),sum1)\n"
   ]
  },
  {
   "cell_type": "markdown",
   "metadata": {},
   "source": [
    "# Assignment Question 2 Identify Prime No."
   ]
  },
  {
   "cell_type": "code",
   "execution_count": 39,
   "metadata": {},
   "outputs": [
    {
     "name": "stdout",
     "output_type": "stream",
     "text": [
      "Enter the Number = 49\n",
      "It is a composite number\n"
     ]
    }
   ],
   "source": [
    "int1=int(input(\"Enter the Number = \"))\n",
    "if int1==1:\n",
    "    print(\"Number is neither prime nor composite\")\n",
    "elif int1>1:\n",
    "    for a in range (2,int1):\n",
    "        rem=int1%a\n",
    "        n=0\n",
    "        if rem==0:\n",
    "            n=1\n",
    "            break\n",
    "    if n==0:\n",
    "        print(\"It is a prime number\")\n",
    "    elif n==1:\n",
    "        print(\"It is a composite number\")\n",
    "            "
   ]
  },
  {
   "cell_type": "code",
   "execution_count": 40,
   "metadata": {},
   "outputs": [
    {
     "name": "stdout",
     "output_type": "stream",
     "text": [
      "Enter the Number = 7\n",
      "It is a prime number\n"
     ]
    }
   ],
   "source": [
    "int1=int(input(\"Enter the Number = \"))\n",
    "if int1==1:\n",
    "    print(\"Number is neither prime nor composite\")\n",
    "elif int1>1:\n",
    "    for a in range (2,int1):\n",
    "        rem=int1%a\n",
    "        n=0\n",
    "        if rem==0:\n",
    "            n=1\n",
    "            break\n",
    "    if n==0:\n",
    "        print(\"It is a prime number\")\n",
    "    elif n==1:\n",
    "        print(\"It is a composite number\")"
   ]
  },
  {
   "cell_type": "code",
   "execution_count": null,
   "metadata": {},
   "outputs": [],
   "source": []
  }
 ],
 "metadata": {
  "kernelspec": {
   "display_name": "Python 3",
   "language": "python",
   "name": "python3"
  },
  "language_info": {
   "codemirror_mode": {
    "name": "ipython",
    "version": 3
   },
   "file_extension": ".py",
   "mimetype": "text/x-python",
   "name": "python",
   "nbconvert_exporter": "python",
   "pygments_lexer": "ipython3",
   "version": "3.7.6"
  }
 },
 "nbformat": 4,
 "nbformat_minor": 4
}
